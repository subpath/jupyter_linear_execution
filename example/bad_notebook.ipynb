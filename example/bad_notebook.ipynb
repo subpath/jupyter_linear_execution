{
 "cells": [
  {
   "cell_type": "code",
   "execution_count": 1,
   "id": "a81e50b2-a25f-487e-859e-ccf650d9f074",
   "metadata": {
    "execution": {
     "iopub.execute_input": "2022-07-18T18:45:39.142588Z",
     "iopub.status.busy": "2022-07-18T18:45:39.141851Z",
     "iopub.status.idle": "2022-07-18T18:45:39.153415Z",
     "shell.execute_reply": "2022-07-18T18:45:39.152546Z",
     "shell.execute_reply.started": "2022-07-18T18:45:39.142483Z"
    },
    "tags": []
   },
   "outputs": [],
   "source": [
    "foo: str = \"This is my strign variable\""
   ]
  },
  {
   "cell_type": "code",
   "execution_count": null,
   "id": "564ecc6a-aa09-4723-b935-0117d425a9cb",
   "metadata": {
    "tags": []
   },
   "outputs": [],
   "source": [
    "print(f\"{foo} and {bar}\")"
   ]
  },
  {
   "cell_type": "code",
   "execution_count": 2,
   "id": "c0e685a8-290b-4780-b9fb-e49988f3ef79",
   "metadata": {
    "execution": {
     "iopub.execute_input": "2022-07-18T18:45:39.155211Z",
     "iopub.status.busy": "2022-07-18T18:45:39.154783Z",
     "iopub.status.idle": "2022-07-18T18:45:39.161119Z",
     "shell.execute_reply": "2022-07-18T18:45:39.160111Z",
     "shell.execute_reply.started": "2022-07-18T18:45:39.155185Z"
    },
    "tags": []
   },
   "outputs": [],
   "source": [
    "bar: str = \"and this is my another string variable\""
   ]
  },
  {
   "cell_type": "code",
   "execution_count": null,
   "id": "73f186db-0b6c-4681-8d60-ccd1e199deba",
   "metadata": {},
   "outputs": [],
   "source": []
  },
  {
   "cell_type": "code",
   "execution_count": null,
   "id": "d0504da4-709d-4046-9427-dbac94bcec34",
   "metadata": {},
   "outputs": [],
   "source": []
  }
 ],
 "metadata": {
  "kernelspec": {
   "display_name": "Python 3 (ipykernel)",
   "language": "python",
   "name": "python3"
  },
  "language_info": {
   "codemirror_mode": {
    "name": "ipython",
    "version": 3
   },
   "file_extension": ".py",
   "mimetype": "text/x-python",
   "name": "python",
   "nbconvert_exporter": "python",
   "pygments_lexer": "ipython3",
   "version": "3.8.10"
  }
 },
 "nbformat": 4,
 "nbformat_minor": 5
}
