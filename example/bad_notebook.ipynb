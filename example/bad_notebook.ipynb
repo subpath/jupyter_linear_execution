{
 "cells": [
  {
   "cell_type": "code",
   "execution_count": 1,
   "id": "a81e50b2-a25f-487e-859e-ccf650d9f074",
   "metadata": {
    "execution": {
     "iopub.execute_input": "2022-07-17T19:14:05.223033Z",
     "iopub.status.busy": "2022-07-17T19:14:05.222576Z",
     "iopub.status.idle": "2022-07-17T19:14:05.232755Z",
     "shell.execute_reply": "2022-07-17T19:14:05.231767Z",
     "shell.execute_reply.started": "2022-07-17T19:14:05.222953Z"
    }
   },
   "outputs": [],
   "source": [
    "foo: str = \"This is my strign variable\""
   ]
  },
  {
   "cell_type": "code",
   "execution_count": 6,
   "id": "564ecc6a-aa09-4723-b935-0117d425a9cb",
   "metadata": {
    "execution": {
     "iopub.execute_input": "2022-07-17T19:15:16.264453Z",
     "iopub.status.busy": "2022-07-17T19:15:16.264126Z",
     "iopub.status.idle": "2022-07-17T19:15:16.268672Z",
     "shell.execute_reply": "2022-07-17T19:15:16.267689Z",
     "shell.execute_reply.started": "2022-07-17T19:15:16.264427Z"
    },
    "tags": []
   },
   "outputs": [
    {
     "name": "stdout",
     "output_type": "stream",
     "text": [
      "This is my strign variable and and this is my another string variable\n"
     ]
    }
   ],
   "source": [
    "print(f\"{foo} and {bar}\")"
   ]
  },
  {
   "cell_type": "code",
   "execution_count": 5,
   "id": "c0e685a8-290b-4780-b9fb-e49988f3ef79",
   "metadata": {
    "execution": {
     "iopub.execute_input": "2022-07-17T19:15:14.372082Z",
     "iopub.status.busy": "2022-07-17T19:15:14.371588Z",
     "iopub.status.idle": "2022-07-17T19:15:14.376215Z",
     "shell.execute_reply": "2022-07-17T19:15:14.375018Z",
     "shell.execute_reply.started": "2022-07-17T19:15:14.372059Z"
    },
    "tags": []
   },
   "outputs": [],
   "source": [
    "bar: str = \"and this is my another string variable\""
   ]
  },
  {
   "cell_type": "code",
   "execution_count": null,
   "id": "73f186db-0b6c-4681-8d60-ccd1e199deba",
   "metadata": {},
   "outputs": [],
   "source": []
  }
 ],
 "metadata": {
  "kernelspec": {
   "display_name": "Python 3 (ipykernel)",
   "language": "python",
   "name": "python3"
  },
  "language_info": {
   "codemirror_mode": {
    "name": "ipython",
    "version": 3
   },
   "file_extension": ".py",
   "mimetype": "text/x-python",
   "name": "python",
   "nbconvert_exporter": "python",
   "pygments_lexer": "ipython3",
   "version": "3.8.10"
  }
 },
 "nbformat": 4,
 "nbformat_minor": 5
}
