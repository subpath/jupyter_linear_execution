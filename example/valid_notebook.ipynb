{
 "cells": [
  {
   "cell_type": "code",
   "execution_count": 1,
   "id": "02ae1312-860c-4e00-8f57-52c8478e5dc4",
   "metadata": {
    "execution": {
     "iopub.execute_input": "2022-07-18T17:46:45.179241Z",
     "iopub.status.busy": "2022-07-18T17:46:45.176273Z",
     "iopub.status.idle": "2022-07-18T17:46:45.206627Z",
     "shell.execute_reply": "2022-07-18T17:46:45.204813Z",
     "shell.execute_reply.started": "2022-07-18T17:46:45.178318Z"
    }
   },
   "outputs": [
    {
     "name": "stdout",
     "output_type": "stream",
     "text": [
      "hello world\n"
     ]
    }
   ],
   "source": [
    "print(\"hello world\")"
   ]
  },
  {
   "cell_type": "code",
   "execution_count": 2,
   "id": "b71c8326-dd2f-46b5-b52e-991a74f407ac",
   "metadata": {
    "execution": {
     "iopub.execute_input": "2022-07-18T17:47:02.453820Z",
     "iopub.status.busy": "2022-07-18T17:47:02.453119Z",
     "iopub.status.idle": "2022-07-18T17:47:02.458117Z",
     "shell.execute_reply": "2022-07-18T17:47:02.457189Z",
     "shell.execute_reply.started": "2022-07-18T17:47:02.453782Z"
    }
   },
   "outputs": [
    {
     "name": "stdout",
     "output_type": "stream",
     "text": [
      "Once again 'Hello world'\n"
     ]
    }
   ],
   "source": [
    "print(\"Once again 'Hello world'\")"
   ]
  },
  {
   "cell_type": "code",
   "execution_count": null,
   "id": "75489b1a-2788-409e-839e-5e2a722ed3d8",
   "metadata": {},
   "outputs": [],
   "source": []
  }
 ],
 "metadata": {
  "kernelspec": {
   "display_name": "Python 3 (ipykernel)",
   "language": "python",
   "name": "python3"
  },
  "language_info": {
   "codemirror_mode": {
    "name": "ipython",
    "version": 3
   },
   "file_extension": ".py",
   "mimetype": "text/x-python",
   "name": "python",
   "nbconvert_exporter": "python",
   "pygments_lexer": "ipython3",
   "version": "3.8.10"
  }
 },
 "nbformat": 4,
 "nbformat_minor": 5
}
